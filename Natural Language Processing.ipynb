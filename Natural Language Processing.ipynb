{
 "cells": [
  {
   "cell_type": "code",
   "execution_count": 0,
   "metadata": {
    "colab": {
     "base_uri": "https://localhost:8080/",
     "height": 34
    },
    "colab_type": "code",
    "id": "Hph5mm98XA5D",
    "outputId": "d912b59a-cdd7-4c7a-eb3e-f6ea158cc552"
   },
   "outputs": [
    {
     "name": "stderr",
     "output_type": "stream",
     "text": [
      "Using TensorFlow backend.\n"
     ]
    }
   ],
   "source": [
    "from __future__ import absolute_import, division, print_function, unicode_literals\n",
    "\n",
    "import tensorflow as tf\n",
    "import pandas as pd\n",
    "import numpy as np\n",
    "from numpy import array\n",
    "from keras.preprocessing.text import one_hot\n",
    "from keras.preprocessing.sequence import pad_sequences\n",
    "from keras.models import Sequential\n",
    "from keras.layers import Dense\n",
    "from keras.layers import Flatten\n",
    "from keras.layers.embeddings import Embedding\n",
    "from keras.preprocessing.text import Tokenizer\n",
    "from keras_preprocessing.sequence import pad_sequences"
   ]
  },
  {
   "cell_type": "code",
   "execution_count": 0,
   "metadata": {
    "colab": {},
    "colab_type": "code",
    "id": "yztYRNfHXA5J"
   },
   "outputs": [],
   "source": [
    "import pickle\n",
    "import pandas as pd\n",
    "data = pd.read_pickle('train.pkl')"
   ]
  },
  {
   "cell_type": "code",
   "execution_count": 0,
   "metadata": {
    "colab": {
     "base_uri": "https://localhost:8080/",
     "height": 197
    },
    "colab_type": "code",
    "id": "ELfaUUc4XA5M",
    "outputId": "7aed34f6-461f-45c3-ee83-b7b99a453473"
   },
   "outputs": [
    {
     "data": {
      "text/html": [
       "<div>\n",
       "<style scoped>\n",
       "    .dataframe tbody tr th:only-of-type {\n",
       "        vertical-align: middle;\n",
       "    }\n",
       "\n",
       "    .dataframe tbody tr th {\n",
       "        vertical-align: top;\n",
       "    }\n",
       "\n",
       "    .dataframe thead th {\n",
       "        text-align: right;\n",
       "    }\n",
       "</style>\n",
       "<table border=\"1\" class=\"dataframe\">\n",
       "  <thead>\n",
       "    <tr style=\"text-align: right;\">\n",
       "      <th></th>\n",
       "      <th>Id</th>\n",
       "      <th>c</th>\n",
       "      <th>r</th>\n",
       "      <th>y</th>\n",
       "    </tr>\n",
       "  </thead>\n",
       "  <tbody>\n",
       "    <tr>\n",
       "      <th>0</th>\n",
       "      <td>0</td>\n",
       "      <td>_t_ comment faire pour choisir bonne musique ...</td>\n",
       "      <td>merci</td>\n",
       "      <td>1</td>\n",
       "    </tr>\n",
       "    <tr>\n",
       "      <th>1</th>\n",
       "      <td>1</td>\n",
       "      <td>_t_ comment faire pour choisir bonne musique ...</td>\n",
       "      <td>لباس العربي</td>\n",
       "      <td>0</td>\n",
       "    </tr>\n",
       "    <tr>\n",
       "      <th>2</th>\n",
       "      <td>2</td>\n",
       "      <td>_t_ comment faire pour choisir bonne musique ...</td>\n",
       "      <td>mkber 9albk</td>\n",
       "      <td>0</td>\n",
       "    </tr>\n",
       "    <tr>\n",
       "      <th>3</th>\n",
       "      <td>3</td>\n",
       "      <td>_t_ comment faire pour choisir bonne musique ...</td>\n",
       "      <td>thats kayle taswira mouneka ommha check sword...</td>\n",
       "      <td>0</td>\n",
       "    </tr>\n",
       "    <tr>\n",
       "      <th>4</th>\n",
       "      <td>4</td>\n",
       "      <td>_t_ comment faire pour choisir bonne musique ...</td>\n",
       "      <td>صحيح تتعداش أبداا dinar</td>\n",
       "      <td>0</td>\n",
       "    </tr>\n",
       "  </tbody>\n",
       "</table>\n",
       "</div>"
      ],
      "text/plain": [
       "   Id  ...  y\n",
       "0   0  ...  1\n",
       "1   1  ...  0\n",
       "2   2  ...  0\n",
       "3   3  ...  0\n",
       "4   4  ...  0\n",
       "\n",
       "[5 rows x 4 columns]"
      ]
     },
     "execution_count": 3,
     "metadata": {
      "tags": []
     },
     "output_type": "execute_result"
    }
   ],
   "source": [
    "data.head()"
   ]
  },
  {
   "cell_type": "code",
   "execution_count": 0,
   "metadata": {
    "colab": {},
    "colab_type": "code",
    "id": "fvZPARN5XA5Q"
   },
   "outputs": [],
   "source": [
    "data['r_c'] = data['c'] + \"--\" + data['r']\n",
    "data = data.drop(columns=['r', 'c', 'Id'])"
   ]
  },
  {
   "cell_type": "code",
   "execution_count": 0,
   "metadata": {
    "colab": {
     "base_uri": "https://localhost:8080/",
     "height": 141
    },
    "colab_type": "code",
    "id": "t_RhrY0fXA5T",
    "outputId": "4349ba91-145f-4e39-b741-0693ed79976c"
   },
   "outputs": [
    {
     "name": "stdout",
     "output_type": "stream",
     "text": [
      "<class 'pandas.core.frame.DataFrame'>\n",
      "RangeIndex: 85000 entries, 0 to 84999\n",
      "Data columns (total 2 columns):\n",
      "y      85000 non-null int64\n",
      "r_c    85000 non-null object\n",
      "dtypes: int64(1), object(1)\n",
      "memory usage: 1.3+ MB\n"
     ]
    }
   ],
   "source": [
    "data.info()"
   ]
  },
  {
   "cell_type": "code",
   "execution_count": 0,
   "metadata": {
    "colab": {},
    "colab_type": "code",
    "id": "akBuaTjRXA5X"
   },
   "outputs": [],
   "source": [
    "data = data.to_numpy()"
   ]
  },
  {
   "cell_type": "code",
   "execution_count": 0,
   "metadata": {
    "colab": {
     "base_uri": "https://localhost:8080/",
     "height": 285
    },
    "colab_type": "code",
    "id": "6ShUg41wXA5a",
    "outputId": "7669d3fb-ff8b-480a-e712-70c73e17d5fc"
   },
   "outputs": [
    {
     "data": {
      "text/plain": [
       "array([[1,\n",
       "        ' _t_ comment faire pour choisir bonne musique pour samma3ni _t_ Bonsoir Rimo simple consultez catalogue toutes tonalités Samma3ni lien suivant: https://samma3ni.ooredoo.tn/oortn/front/# /web/home votre service Lotfi Community Manager _t_ Merci peux donner musique numero _t_ vous cherchez titre bien déterminé Lotfi Community Manager _t_ connais jara _t_ Vous pouvez faire recherche avec titre composant *150*4#. Lotfi Community Manager _t_ Vous dites suspendu solde _t_ Dans vous devez recharger votre compte pour vous piussez acheter tonalité. votre service Lotfi Community Manager--merci'],\n",
       "       [0,\n",
       "        ' _t_ comment faire pour choisir bonne musique pour samma3ni _t_ Bonsoir Rimo simple consultez catalogue toutes tonalités Samma3ni lien suivant: https://samma3ni.ooredoo.tn/oortn/front/# /web/home votre service Lotfi Community Manager _t_ Merci peux donner musique numero _t_ vous cherchez titre bien déterminé Lotfi Community Manager _t_ connais jara _t_ Vous pouvez faire recherche avec titre composant *150*4#. Lotfi Community Manager _t_ Vous dites suspendu solde _t_ Dans vous devez recharger votre compte pour vous piussez acheter tonalité. votre service Lotfi Community Manager-- لباس العربي '],\n",
       "       [0,\n",
       "        ' _t_ comment faire pour choisir bonne musique pour samma3ni _t_ Bonsoir Rimo simple consultez catalogue toutes tonalités Samma3ni lien suivant: https://samma3ni.ooredoo.tn/oortn/front/# /web/home votre service Lotfi Community Manager _t_ Merci peux donner musique numero _t_ vous cherchez titre bien déterminé Lotfi Community Manager _t_ connais jara _t_ Vous pouvez faire recherche avec titre composant *150*4#. Lotfi Community Manager _t_ Vous dites suspendu solde _t_ Dans vous devez recharger votre compte pour vous piussez acheter tonalité. votre service Lotfi Community Manager-- mkber 9albk '],\n",
       "       ...,\n",
       "       [0,\n",
       "        ' _t_ نسالكم بيني الفلوس تاخذوهم _t_ مرحبا وجدان أرجو الحصول هاتفك الخاص يتسنى التثبت الموضوع سمحت. Lotfi Community Manager _t_ وعندي حاجة اخرى تمشيلي 2للاترنات وتبقالي بربي نحيهاولي التليفون امانكم نصبهم نكلم الكبيرة للاترنات-- الكنكسيون طايح جملا'],\n",
       "       [0,\n",
       "        ' _t_ نسالكم بيني الفلوس تاخذوهم _t_ مرحبا وجدان أرجو الحصول هاتفك الخاص يتسنى التثبت الموضوع سمحت. Lotfi Community Manager _t_ وعندي حاجة اخرى تمشيلي 2للاترنات وتبقالي بربي نحيهاولي التليفون امانكم نصبهم نكلم الكبيرة للاترنات-- الوقتاش العرض باقي شكرا'],\n",
       "       [0,\n",
       "        ' _t_ نسالكم بيني الفلوس تاخذوهم _t_ مرحبا وجدان أرجو الحصول هاتفك الخاص يتسنى التثبت الموضوع سمحت. Lotfi Community Manager _t_ وعندي حاجة اخرى تمشيلي 2للاترنات وتبقالي بربي نحيهاولي التليفون امانكم نصبهم نكلم الكبيرة للاترنات-- Avec service Tasshil vous pouvez acheter portable votre choix avec facilités paiement s’étalant mois d’intérêts. service Tasshil destiné Abonnés facture ayant ancienneté minimale mois. Abonnés carte ayant ancienneté supérieure mois ayant migré vers offre facture. Vous payez reste sera échelonné mois. Pour savoir plus visitez boutique Ooredoo plus proche chez vous. Lotfi Community Manager']],\n",
       "      dtype=object)"
      ]
     },
     "execution_count": 7,
     "metadata": {
      "tags": []
     },
     "output_type": "execute_result"
    }
   ],
   "source": [
    "data"
   ]
  },
  {
   "cell_type": "code",
   "execution_count": 0,
   "metadata": {
    "colab": {},
    "colab_type": "code",
    "id": "jEufW2PoXA5d"
   },
   "outputs": [],
   "source": [
    "X=data[:,1]\n",
    "y=data[:,0]"
   ]
  },
  {
   "cell_type": "code",
   "execution_count": 0,
   "metadata": {
    "colab": {},
    "colab_type": "code",
    "id": "_fi0tH93XA5g"
   },
   "outputs": [],
   "source": [
    "from sklearn.model_selection import train_test_split\n",
    "X_train, X_test, y_train, y_test = train_test_split(X, y, test_size=0.2, random_state=42)"
   ]
  },
  {
   "cell_type": "code",
   "execution_count": 0,
   "metadata": {
    "colab": {},
    "colab_type": "code",
    "id": "r26d-PELXA5j"
   },
   "outputs": [],
   "source": [
    "total = np.concatenate((X_test, X_train), axis=0)"
   ]
  },
  {
   "cell_type": "code",
   "execution_count": 0,
   "metadata": {
    "colab": {},
    "colab_type": "code",
    "id": "mKLV3fmQXA5m"
   },
   "outputs": [],
   "source": [
    "tokenizer=Tokenizer()\n",
    "tokenizer.fit_on_texts(total)"
   ]
  },
  {
   "cell_type": "code",
   "execution_count": 0,
   "metadata": {
    "colab": {},
    "colab_type": "code",
    "id": "K9SOg8XcXA5q"
   },
   "outputs": [],
   "source": [
    "max_length=max([len(s.split()) for s in total])"
   ]
  },
  {
   "cell_type": "code",
   "execution_count": 0,
   "metadata": {
    "colab": {},
    "colab_type": "code",
    "id": "MCRFN0nSXA5t"
   },
   "outputs": [],
   "source": [
    "vocab_size=len(tokenizer.word_index)+1\n",
    "X_train=tokenizer.texts_to_sequences(X_train)\n",
    "X_test=tokenizer.texts_to_sequences(X_test)"
   ]
  },
  {
   "cell_type": "code",
   "execution_count": 0,
   "metadata": {
    "colab": {},
    "colab_type": "code",
    "id": "mAqWO47XXA5w"
   },
   "outputs": [],
   "source": [
    "X_trainp=pad_sequences(X_train , maxlen=max_length, padding='post')\n",
    "X_testp=pad_sequences(X_test , maxlen=max_length, padding='post')"
   ]
  },
  {
   "cell_type": "code",
   "execution_count": 0,
   "metadata": {
    "colab": {
     "base_uri": "https://localhost:8080/",
     "height": 141
    },
    "colab_type": "code",
    "id": "wwRiakh_XA5z",
    "outputId": "a546d445-6893-490d-be75-465b9ad5cd0d"
   },
   "outputs": [
    {
     "data": {
      "text/plain": [
       "array([[    1,  1514,   302, ...,     0,     0,     0],\n",
       "       [    1,  1759,  7924, ...,     0,     0,     0],\n",
       "       [    1,  2857,    31, ...,     0,     0,     0],\n",
       "       ...,\n",
       "       [    1, 12608,  5526, ...,     0,     0,     0],\n",
       "       [    1,   226,  2314, ...,     0,     0,     0],\n",
       "       [    1,   179,   195, ...,     0,     0,     0]], dtype=int32)"
      ]
     },
     "execution_count": 15,
     "metadata": {
      "tags": []
     },
     "output_type": "execute_result"
    }
   ],
   "source": [
    "X_testp"
   ]
  },
  {
   "cell_type": "code",
   "execution_count": 0,
   "metadata": {
    "colab": {
     "base_uri": "https://localhost:8080/",
     "height": 141
    },
    "colab_type": "code",
    "id": "nRSFTRlmXA53",
    "outputId": "94d73d83-c4f5-4f33-b00a-860ba5e26ed3"
   },
   "outputs": [
    {
     "data": {
      "text/plain": [
       "array([[   1, 5437, 1569, ...,    0,    0,    0],\n",
       "       [   1, 1204,  260, ...,    0,    0,    0],\n",
       "       [   1,   95,   22, ...,    0,    0,    0],\n",
       "       ...,\n",
       "       [   1,  118, 3914, ...,    0,    0,    0],\n",
       "       [   1,   22,  128, ...,    0,    0,    0],\n",
       "       [   1,   20,   84, ...,    0,    0,    0]], dtype=int32)"
      ]
     },
     "execution_count": 16,
     "metadata": {
      "tags": []
     },
     "output_type": "execute_result"
    }
   ],
   "source": [
    "X_trainp"
   ]
  },
  {
   "cell_type": "code",
   "execution_count": 0,
   "metadata": {
    "colab": {},
    "colab_type": "code",
    "id": "IWybleyPXA56"
   },
   "outputs": [],
   "source": [
    "X_train = np.asarray(X_train)\n",
    "X_test = np.asarray(X_test)\n",
    "y_train = np.asarray(y_train)\n",
    "y_test = np.asarray(y_test)"
   ]
  },
  {
   "cell_type": "code",
   "execution_count": 0,
   "metadata": {
    "colab": {
     "base_uri": "https://localhost:8080/",
     "height": 303
    },
    "colab_type": "code",
    "id": "OZrYuiOlXA6A",
    "outputId": "f5704bf1-1f2a-4f05-9ae7-02290236740b"
   },
   "outputs": [
    {
     "name": "stdout",
     "output_type": "stream",
     "text": [
      "WARNING:tensorflow:From /usr/local/lib/python3.6/dist-packages/tensorflow_core/python/keras/initializers.py:119: calling RandomUniform.__init__ (from tensorflow.python.ops.init_ops) with dtype is deprecated and will be removed in a future version.\n",
      "Instructions for updating:\n",
      "Call initializer instance with the dtype argument instead of passing it to the constructor\n",
      "WARNING:tensorflow:From /usr/local/lib/python3.6/dist-packages/tensorflow_core/python/ops/init_ops.py:97: calling GlorotUniform.__init__ (from tensorflow.python.ops.init_ops) with dtype is deprecated and will be removed in a future version.\n",
      "Instructions for updating:\n",
      "Call initializer instance with the dtype argument instead of passing it to the constructor\n",
      "WARNING:tensorflow:From /usr/local/lib/python3.6/dist-packages/tensorflow_core/python/ops/init_ops.py:97: calling Orthogonal.__init__ (from tensorflow.python.ops.init_ops) with dtype is deprecated and will be removed in a future version.\n",
      "Instructions for updating:\n",
      "Call initializer instance with the dtype argument instead of passing it to the constructor\n",
      "WARNING:tensorflow:From /usr/local/lib/python3.6/dist-packages/tensorflow_core/python/ops/init_ops.py:97: calling Zeros.__init__ (from tensorflow.python.ops.init_ops) with dtype is deprecated and will be removed in a future version.\n",
      "Instructions for updating:\n",
      "Call initializer instance with the dtype argument instead of passing it to the constructor\n",
      "WARNING:tensorflow:From /usr/local/lib/python3.6/dist-packages/tensorflow_core/python/ops/resource_variable_ops.py:1630: calling BaseResourceVariable.__init__ (from tensorflow.python.ops.resource_variable_ops) with constraint is deprecated and will be removed in a future version.\n",
      "Instructions for updating:\n",
      "If using Keras pass *_constraint arguments to layers.\n"
     ]
    }
   ],
   "source": [
    "model = tf.keras.Sequential([\n",
    "    tf.keras.layers.Embedding(vocab_size, 64),\n",
    "    tf.keras.layers.Bidirectional(tf.keras.layers.LSTM(64)),\n",
    "    tf.keras.layers.Dense(64, activation='relu'),\n",
    "    tf.keras.layers.Dense(1, activation='sigmoid')\n",
    "])"
   ]
  },
  {
   "cell_type": "code",
   "execution_count": 0,
   "metadata": {
    "colab": {
     "base_uri": "https://localhost:8080/",
     "height": 90
    },
    "colab_type": "code",
    "id": "z3arLm4_XA6D",
    "outputId": "c01fb2f0-4773-4e88-8cd4-95f2adf4bf6b"
   },
   "outputs": [
    {
     "name": "stdout",
     "output_type": "stream",
     "text": [
      "WARNING:tensorflow:From /usr/local/lib/python3.6/dist-packages/tensorflow_core/python/ops/nn_impl.py:183: where (from tensorflow.python.ops.array_ops) is deprecated and will be removed in a future version.\n",
      "Instructions for updating:\n",
      "Use tf.where in 2.0, which has the same broadcast rule as np.where\n"
     ]
    }
   ],
   "source": [
    "model.compile(loss='binary_crossentropy',\n",
    "              optimizer=tf.keras.optimizers.Adam(1e-4),\n",
    "              metrics=['accuracy'])"
   ]
  },
  {
   "cell_type": "code",
   "execution_count": 0,
   "metadata": {
    "colab": {
     "base_uri": "https://localhost:8080/",
     "height": 232
    },
    "colab_type": "code",
    "id": "91U6LEB_XA6I",
    "outputId": "15ffe43f-f1cd-4046-b129-1ec33abe4091"
   },
   "outputs": [
    {
     "name": "stdout",
     "output_type": "stream",
     "text": [
      "Train on 68000 samples, validate on 17000 samples\n",
      "Epoch 1/10\n",
      "68000/68000 [==============================] - 1722s 25ms/sample - loss: 0.3565 - acc: 0.9004 - val_loss: 0.3212 - val_acc: 0.8984\n",
      "Epoch 2/10\n",
      "68000/68000 [==============================] - 1919s 28ms/sample - loss: 0.2985 - acc: 0.9004 - val_loss: 0.3073 - val_acc: 0.8984\n",
      "Epoch 3/10\n",
      "68000/68000 [==============================] - 2186s 32ms/sample - loss: 0.2689 - acc: 0.9009 - val_loss: 0.2988 - val_acc: 0.8954\n",
      "Epoch 4/10\n",
      "68000/68000 [==============================] - 2538s 37ms/sample - loss: 0.2389 - acc: 0.9053 - val_loss: 0.2976 - val_acc: 0.8934\n",
      "Epoch 5/10\n",
      "67968/68000 [============================>.] - ETA: 0s - loss: 0.2087 - acc: 0.9150"
     ]
    }
   ],
   "source": [
    "history = model.fit(X_trainp,y_train, epochs=10,\n",
    "                    validation_data=(X_testp,y_test), \n",
    "                    validation_steps=10, batch_size=128)"
   ]
  },
  {
   "cell_type": "code",
   "execution_count": 0,
   "metadata": {
    "colab": {},
    "colab_type": "code",
    "id": "KQCsbhAnXA6M"
   },
   "outputs": [],
   "source": [
    "import matplotlib.pyplot as plt\n",
    "\n",
    "def plot_graphs(history, string):\n",
    "  plt.plot(history.history[string])\n",
    "  plt.plot(history.history['val_'+string], '')\n",
    "  plt.xlabel(\"Epochs\")\n",
    "  plt.ylabel(string)\n",
    "  plt.legend([string, 'val_'+string])\n",
    "  plt.show()"
   ]
  },
  {
   "cell_type": "code",
   "execution_count": 0,
   "metadata": {
    "colab": {},
    "colab_type": "code",
    "id": "YkKzkXpGXA6P"
   },
   "outputs": [],
   "source": []
  },
  {
   "cell_type": "code",
   "execution_count": 0,
   "metadata": {
    "colab": {},
    "colab_type": "code",
    "id": "i78cae_pXA6f"
   },
   "outputs": [],
   "source": []
  }
 ],
 "metadata": {
  "accelerator": "TPU",
  "colab": {
   "name": "Untitled.ipynb",
   "provenance": []
  },
  "kernelspec": {
   "display_name": "Python 3",
   "language": "python",
   "name": "python3"
  },
  "language_info": {
   "codemirror_mode": {
    "name": "ipython",
    "version": 3
   },
   "file_extension": ".py",
   "mimetype": "text/x-python",
   "name": "python",
   "nbconvert_exporter": "python",
   "pygments_lexer": "ipython3",
   "version": "3.6.4"
  }
 },
 "nbformat": 4,
 "nbformat_minor": 1
}
